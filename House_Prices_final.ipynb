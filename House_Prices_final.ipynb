{
 "cells": [
  {
   "cell_type": "markdown",
   "metadata": {},
   "source": [
    "__Kaggle Competition__: House Prices Prediction using Linear Regeression"
   ]
  },
  {
   "cell_type": "markdown",
   "metadata": {},
   "source": [
    "# Libraries needed"
   ]
  },
  {
   "cell_type": "code",
   "execution_count": 1,
   "metadata": {},
   "outputs": [],
   "source": [
    "import pandas as pd\n",
    "import matplotlib.pyplot as plt\n",
    "import numpy as np\n",
    "import seaborn as sns\n",
    "from sklearn.preprocessing import RobustScaler\n",
    "from sklearn.metrics import mean_squared_error\n",
    "import statsmodels.formula.api as sm"
   ]
  },
  {
   "cell_type": "markdown",
   "metadata": {},
   "source": [
    "# Load Data"
   ]
  },
  {
   "cell_type": "code",
   "execution_count": 2,
   "metadata": {},
   "outputs": [],
   "source": [
    "train=pd.read_csv('train.csv')\n",
    "test=pd.read_csv('test.csv')\n",
    "\n",
    "n_train=train.shape[0]\n",
    "y=train['SalePrice']\n",
    "train=train.drop(['SalePrice'],axis=1)\n",
    "\n",
    "data = pd.concat([train,test],ignore_index=True,sort=False)"
   ]
  },
  {
   "cell_type": "code",
   "execution_count": 3,
   "metadata": {},
   "outputs": [
    {
     "data": {
      "text/html": [
       "<div>\n",
       "<style scoped>\n",
       "    .dataframe tbody tr th:only-of-type {\n",
       "        vertical-align: middle;\n",
       "    }\n",
       "\n",
       "    .dataframe tbody tr th {\n",
       "        vertical-align: top;\n",
       "    }\n",
       "\n",
       "    .dataframe thead th {\n",
       "        text-align: right;\n",
       "    }\n",
       "</style>\n",
       "<table border=\"1\" class=\"dataframe\">\n",
       "  <thead>\n",
       "    <tr style=\"text-align: right;\">\n",
       "      <th></th>\n",
       "      <th>Id</th>\n",
       "      <th>MSSubClass</th>\n",
       "      <th>MSZoning</th>\n",
       "      <th>LotFrontage</th>\n",
       "      <th>LotArea</th>\n",
       "      <th>Street</th>\n",
       "      <th>Alley</th>\n",
       "      <th>LotShape</th>\n",
       "      <th>LandContour</th>\n",
       "      <th>Utilities</th>\n",
       "      <th>...</th>\n",
       "      <th>ScreenPorch</th>\n",
       "      <th>PoolArea</th>\n",
       "      <th>PoolQC</th>\n",
       "      <th>Fence</th>\n",
       "      <th>MiscFeature</th>\n",
       "      <th>MiscVal</th>\n",
       "      <th>MoSold</th>\n",
       "      <th>YrSold</th>\n",
       "      <th>SaleType</th>\n",
       "      <th>SaleCondition</th>\n",
       "    </tr>\n",
       "  </thead>\n",
       "  <tbody>\n",
       "    <tr>\n",
       "      <th>0</th>\n",
       "      <td>1</td>\n",
       "      <td>60</td>\n",
       "      <td>RL</td>\n",
       "      <td>65.0</td>\n",
       "      <td>8450</td>\n",
       "      <td>Pave</td>\n",
       "      <td>NaN</td>\n",
       "      <td>Reg</td>\n",
       "      <td>Lvl</td>\n",
       "      <td>AllPub</td>\n",
       "      <td>...</td>\n",
       "      <td>0</td>\n",
       "      <td>0</td>\n",
       "      <td>NaN</td>\n",
       "      <td>NaN</td>\n",
       "      <td>NaN</td>\n",
       "      <td>0</td>\n",
       "      <td>2</td>\n",
       "      <td>2008</td>\n",
       "      <td>WD</td>\n",
       "      <td>Normal</td>\n",
       "    </tr>\n",
       "    <tr>\n",
       "      <th>1</th>\n",
       "      <td>2</td>\n",
       "      <td>20</td>\n",
       "      <td>RL</td>\n",
       "      <td>80.0</td>\n",
       "      <td>9600</td>\n",
       "      <td>Pave</td>\n",
       "      <td>NaN</td>\n",
       "      <td>Reg</td>\n",
       "      <td>Lvl</td>\n",
       "      <td>AllPub</td>\n",
       "      <td>...</td>\n",
       "      <td>0</td>\n",
       "      <td>0</td>\n",
       "      <td>NaN</td>\n",
       "      <td>NaN</td>\n",
       "      <td>NaN</td>\n",
       "      <td>0</td>\n",
       "      <td>5</td>\n",
       "      <td>2007</td>\n",
       "      <td>WD</td>\n",
       "      <td>Normal</td>\n",
       "    </tr>\n",
       "    <tr>\n",
       "      <th>2</th>\n",
       "      <td>3</td>\n",
       "      <td>60</td>\n",
       "      <td>RL</td>\n",
       "      <td>68.0</td>\n",
       "      <td>11250</td>\n",
       "      <td>Pave</td>\n",
       "      <td>NaN</td>\n",
       "      <td>IR1</td>\n",
       "      <td>Lvl</td>\n",
       "      <td>AllPub</td>\n",
       "      <td>...</td>\n",
       "      <td>0</td>\n",
       "      <td>0</td>\n",
       "      <td>NaN</td>\n",
       "      <td>NaN</td>\n",
       "      <td>NaN</td>\n",
       "      <td>0</td>\n",
       "      <td>9</td>\n",
       "      <td>2008</td>\n",
       "      <td>WD</td>\n",
       "      <td>Normal</td>\n",
       "    </tr>\n",
       "    <tr>\n",
       "      <th>3</th>\n",
       "      <td>4</td>\n",
       "      <td>70</td>\n",
       "      <td>RL</td>\n",
       "      <td>60.0</td>\n",
       "      <td>9550</td>\n",
       "      <td>Pave</td>\n",
       "      <td>NaN</td>\n",
       "      <td>IR1</td>\n",
       "      <td>Lvl</td>\n",
       "      <td>AllPub</td>\n",
       "      <td>...</td>\n",
       "      <td>0</td>\n",
       "      <td>0</td>\n",
       "      <td>NaN</td>\n",
       "      <td>NaN</td>\n",
       "      <td>NaN</td>\n",
       "      <td>0</td>\n",
       "      <td>2</td>\n",
       "      <td>2006</td>\n",
       "      <td>WD</td>\n",
       "      <td>Abnorml</td>\n",
       "    </tr>\n",
       "    <tr>\n",
       "      <th>4</th>\n",
       "      <td>5</td>\n",
       "      <td>60</td>\n",
       "      <td>RL</td>\n",
       "      <td>84.0</td>\n",
       "      <td>14260</td>\n",
       "      <td>Pave</td>\n",
       "      <td>NaN</td>\n",
       "      <td>IR1</td>\n",
       "      <td>Lvl</td>\n",
       "      <td>AllPub</td>\n",
       "      <td>...</td>\n",
       "      <td>0</td>\n",
       "      <td>0</td>\n",
       "      <td>NaN</td>\n",
       "      <td>NaN</td>\n",
       "      <td>NaN</td>\n",
       "      <td>0</td>\n",
       "      <td>12</td>\n",
       "      <td>2008</td>\n",
       "      <td>WD</td>\n",
       "      <td>Normal</td>\n",
       "    </tr>\n",
       "  </tbody>\n",
       "</table>\n",
       "<p>5 rows × 80 columns</p>\n",
       "</div>"
      ],
      "text/plain": [
       "   Id  MSSubClass MSZoning  LotFrontage  LotArea Street Alley LotShape  \\\n",
       "0   1          60       RL         65.0     8450   Pave   NaN      Reg   \n",
       "1   2          20       RL         80.0     9600   Pave   NaN      Reg   \n",
       "2   3          60       RL         68.0    11250   Pave   NaN      IR1   \n",
       "3   4          70       RL         60.0     9550   Pave   NaN      IR1   \n",
       "4   5          60       RL         84.0    14260   Pave   NaN      IR1   \n",
       "\n",
       "  LandContour Utilities  ... ScreenPorch PoolArea PoolQC Fence MiscFeature  \\\n",
       "0         Lvl    AllPub  ...           0        0    NaN   NaN         NaN   \n",
       "1         Lvl    AllPub  ...           0        0    NaN   NaN         NaN   \n",
       "2         Lvl    AllPub  ...           0        0    NaN   NaN         NaN   \n",
       "3         Lvl    AllPub  ...           0        0    NaN   NaN         NaN   \n",
       "4         Lvl    AllPub  ...           0        0    NaN   NaN         NaN   \n",
       "\n",
       "  MiscVal MoSold  YrSold  SaleType  SaleCondition  \n",
       "0       0      2    2008        WD         Normal  \n",
       "1       0      5    2007        WD         Normal  \n",
       "2       0      9    2008        WD         Normal  \n",
       "3       0      2    2006        WD        Abnorml  \n",
       "4       0     12    2008        WD         Normal  \n",
       "\n",
       "[5 rows x 80 columns]"
      ]
     },
     "execution_count": 3,
     "metadata": {},
     "output_type": "execute_result"
    }
   ],
   "source": [
    "train.head()"
   ]
  },
  {
   "cell_type": "code",
   "execution_count": 4,
   "metadata": {},
   "outputs": [
    {
     "name": "stdout",
     "output_type": "stream",
     "text": [
      "<class 'pandas.core.frame.DataFrame'>\n",
      "RangeIndex: 1460 entries, 0 to 1459\n",
      "Data columns (total 80 columns):\n",
      "Id               1460 non-null int64\n",
      "MSSubClass       1460 non-null int64\n",
      "MSZoning         1460 non-null object\n",
      "LotFrontage      1201 non-null float64\n",
      "LotArea          1460 non-null int64\n",
      "Street           1460 non-null object\n",
      "Alley            91 non-null object\n",
      "LotShape         1460 non-null object\n",
      "LandContour      1460 non-null object\n",
      "Utilities        1460 non-null object\n",
      "LotConfig        1460 non-null object\n",
      "LandSlope        1460 non-null object\n",
      "Neighborhood     1460 non-null object\n",
      "Condition1       1460 non-null object\n",
      "Condition2       1460 non-null object\n",
      "BldgType         1460 non-null object\n",
      "HouseStyle       1460 non-null object\n",
      "OverallQual      1460 non-null int64\n",
      "OverallCond      1460 non-null int64\n",
      "YearBuilt        1460 non-null int64\n",
      "YearRemodAdd     1460 non-null int64\n",
      "RoofStyle        1460 non-null object\n",
      "RoofMatl         1460 non-null object\n",
      "Exterior1st      1460 non-null object\n",
      "Exterior2nd      1460 non-null object\n",
      "MasVnrType       1452 non-null object\n",
      "MasVnrArea       1452 non-null float64\n",
      "ExterQual        1460 non-null object\n",
      "ExterCond        1460 non-null object\n",
      "Foundation       1460 non-null object\n",
      "BsmtQual         1423 non-null object\n",
      "BsmtCond         1423 non-null object\n",
      "BsmtExposure     1422 non-null object\n",
      "BsmtFinType1     1423 non-null object\n",
      "BsmtFinSF1       1460 non-null int64\n",
      "BsmtFinType2     1422 non-null object\n",
      "BsmtFinSF2       1460 non-null int64\n",
      "BsmtUnfSF        1460 non-null int64\n",
      "TotalBsmtSF      1460 non-null int64\n",
      "Heating          1460 non-null object\n",
      "HeatingQC        1460 non-null object\n",
      "CentralAir       1460 non-null object\n",
      "Electrical       1459 non-null object\n",
      "1stFlrSF         1460 non-null int64\n",
      "2ndFlrSF         1460 non-null int64\n",
      "LowQualFinSF     1460 non-null int64\n",
      "GrLivArea        1460 non-null int64\n",
      "BsmtFullBath     1460 non-null int64\n",
      "BsmtHalfBath     1460 non-null int64\n",
      "FullBath         1460 non-null int64\n",
      "HalfBath         1460 non-null int64\n",
      "BedroomAbvGr     1460 non-null int64\n",
      "KitchenAbvGr     1460 non-null int64\n",
      "KitchenQual      1460 non-null object\n",
      "TotRmsAbvGrd     1460 non-null int64\n",
      "Functional       1460 non-null object\n",
      "Fireplaces       1460 non-null int64\n",
      "FireplaceQu      770 non-null object\n",
      "GarageType       1379 non-null object\n",
      "GarageYrBlt      1379 non-null float64\n",
      "GarageFinish     1379 non-null object\n",
      "GarageCars       1460 non-null int64\n",
      "GarageArea       1460 non-null int64\n",
      "GarageQual       1379 non-null object\n",
      "GarageCond       1379 non-null object\n",
      "PavedDrive       1460 non-null object\n",
      "WoodDeckSF       1460 non-null int64\n",
      "OpenPorchSF      1460 non-null int64\n",
      "EnclosedPorch    1460 non-null int64\n",
      "3SsnPorch        1460 non-null int64\n",
      "ScreenPorch      1460 non-null int64\n",
      "PoolArea         1460 non-null int64\n",
      "PoolQC           7 non-null object\n",
      "Fence            281 non-null object\n",
      "MiscFeature      54 non-null object\n",
      "MiscVal          1460 non-null int64\n",
      "MoSold           1460 non-null int64\n",
      "YrSold           1460 non-null int64\n",
      "SaleType         1460 non-null object\n",
      "SaleCondition    1460 non-null object\n",
      "dtypes: float64(3), int64(34), object(43)\n",
      "memory usage: 912.6+ KB\n"
     ]
    }
   ],
   "source": [
    "train.info()"
   ]
  },
  {
   "cell_type": "markdown",
   "metadata": {},
   "source": [
    "# Missing Data"
   ]
  },
  {
   "cell_type": "code",
   "execution_count": 5,
   "metadata": {
    "scrolled": false
   },
   "outputs": [
    {
     "name": "stdout",
     "output_type": "stream",
     "text": [
      "PoolQC          99.657417\n",
      "MiscFeature     96.402878\n",
      "Alley           93.216855\n",
      "Fence           80.438506\n",
      "FireplaceQu     48.646797\n",
      "LotFrontage     16.649538\n",
      "GarageFinish     5.447071\n",
      "GarageYrBlt      5.447071\n",
      "GarageQual       5.447071\n",
      "GarageCond       5.447071\n",
      "GarageType       5.378554\n",
      "BsmtExposure     2.809181\n",
      "BsmtCond         2.809181\n",
      "BsmtQual         2.774923\n",
      "BsmtFinType2     2.740665\n",
      "BsmtFinType1     2.706406\n",
      "MasVnrType       0.822199\n",
      "MasVnrArea       0.787941\n",
      "MSZoning         0.137033\n",
      "BsmtFullBath     0.068517\n",
      "BsmtHalfBath     0.068517\n",
      "Utilities        0.068517\n",
      "Functional       0.068517\n",
      "Exterior2nd      0.034258\n",
      "Exterior1st      0.034258\n",
      "SaleType         0.034258\n",
      "BsmtFinSF1       0.034258\n",
      "BsmtFinSF2       0.034258\n",
      "BsmtUnfSF        0.034258\n",
      "Electrical       0.034258\n",
      "KitchenQual      0.034258\n",
      "GarageCars       0.034258\n",
      "GarageArea       0.034258\n",
      "TotalBsmtSF      0.034258\n",
      "dtype: float64\n"
     ]
    }
   ],
   "source": [
    "nans=pd.isnull(data).sum()/data.shape[0]\n",
    "print(nans[nans>0].sort_values(ascending=False)*100)"
   ]
  },
  {
   "cell_type": "code",
   "execution_count": 6,
   "metadata": {},
   "outputs": [],
   "source": [
    "data = data.drop(['Id','PoolQC','MiscFeature','Alley','Fence','FireplaceQu'],axis=1)"
   ]
  },
  {
   "cell_type": "code",
   "execution_count": 7,
   "metadata": {},
   "outputs": [],
   "source": [
    "data['LotFrontage'] = data[['LotFrontage','Neighborhood']].groupby('Neighborhood')['LotFrontage'].transform(\n",
    "    lambda x: x.fillna(x.median()))"
   ]
  },
  {
   "cell_type": "code",
   "execution_count": 8,
   "metadata": {},
   "outputs": [],
   "source": [
    "data['MSZoning'] = data[['MSZoning','MSSubClass']].groupby('MSSubClass')['MSZoning'].transform(lambda x: x.fillna(x.mode()))"
   ]
  },
  {
   "cell_type": "code",
   "execution_count": 9,
   "metadata": {},
   "outputs": [],
   "source": [
    "data.loc[:,['GarageQual','GarageCond','GarageFinish','GarageType']] = data.loc[:,['GarageQual','GarageCond','GarageFinish','GarageType']].fillna('None')\n",
    "data['GarageYrBlt'] = data['GarageYrBlt'].fillna(0)\n",
    "data = data.fillna(data.median())"
   ]
  },
  {
   "cell_type": "markdown",
   "metadata": {},
   "source": [
    "# Data Visualisation"
   ]
  },
  {
   "cell_type": "code",
   "execution_count": 10,
   "metadata": {
    "scrolled": true
   },
   "outputs": [
    {
     "name": "stdout",
     "output_type": "stream",
     "text": [
      "Skewness of SalePrice: 1.882876\n"
     ]
    },
    {
     "data": {
      "text/plain": [
       "<matplotlib.axes._subplots.AxesSubplot at 0x7fd07529ed68>"
      ]
     },
     "execution_count": 10,
     "metadata": {},
     "output_type": "execute_result"
    },
    {
     "data": {
      "image/png": "[encoded data removed]",
      "text/plain": [
       "<Figure size 432x288 with 1 Axes>"
      ]
     },
     "metadata": {
      "needs_background": "light"
     },
     "output_type": "display_data"
    }
   ],
   "source": [
    "print(\"Skewness of SalePrice: %f\" %y.skew())\n",
    "sns.distplot(y)"
   ]
  },
  {
   "cell_type": "code",
   "execution_count": 11,
   "metadata": {
    "scrolled": false
   },
   "outputs": [
    {
     "data": {
      "text/plain": [
       "(array([ 0.5,  1.5,  2.5,  3.5,  4.5,  5.5,  6.5,  7.5,  8.5,  9.5, 10.5,\n",
       "        11.5, 12.5, 13.5, 14.5, 15.5, 16.5, 17.5, 18.5, 19.5, 20.5, 21.5,\n",
       "        22.5, 23.5, 24.5, 25.5, 26.5, 27.5, 28.5, 29.5, 30.5, 31.5, 32.5,\n",
       "        33.5, 34.5, 35.5, 36.5]), <a list of 37 Text yticklabel objects>)"
      ]
     },
     "execution_count": 11,
     "metadata": {},
     "output_type": "execute_result"
    },
    {
     "data": {
      "image/png": "[encoded data removed]",
      "text/plain": [
       "<Figure size 1800x1800 with 2 Axes>"
      ]
     },
     "metadata": {
      "needs_background": "light"
     },
     "output_type": "display_data"
    }
   ],
   "source": [
    "c_salePrice = pd.concat([data,y],axis=1).corr()['SalePrice']\n",
    "c_salePrice = abs(c_salePrice).sort_values(ascending = False)\n",
    "\n",
    "fig,ax=plt.subplots(figsize=(25,25))\n",
    "sns.heatmap(pd.DataFrame(c_salePrice),annot=True,square=True,ax=ax,cmap='Blues')\n",
    "plt.xticks(fontsize=10)\n",
    "plt.yticks(fontsize=10)"
   ]
  },
  {
   "cell_type": "code",
   "execution_count": 12,
   "metadata": {},
   "outputs": [
    {
     "data": {
      "text/plain": [
       "<matplotlib.axes._subplots.AxesSubplot at 0x7fd0750ce1d0>"
      ]
     },
     "execution_count": 12,
     "metadata": {},
     "output_type": "execute_result"
    },
    {
     "data": {
      "image/png": "[encoded data removed]",
      "text/plain": [
       "<Figure size 432x288 with 1 Axes>"
      ]
     },
     "metadata": {
      "needs_background": "light"
     },
     "output_type": "display_data"
    }
   ],
   "source": [
    "sns.regplot(train['OverallQual'],y)"
   ]
  },
  {
   "cell_type": "code",
   "execution_count": 13,
   "metadata": {},
   "outputs": [
    {
     "data": {
      "text/plain": [
       "<matplotlib.axes._subplots.AxesSubplot at 0x7fd074f5d400>"
      ]
     },
     "execution_count": 13,
     "metadata": {},
     "output_type": "execute_result"
    },
    {
     "data": {
      "image/png": "[encoded data removed]",
      "text/plain": [
       "<Figure size 432x288 with 1 Axes>"
      ]
     },
     "metadata": {
      "needs_background": "light"
     },
     "output_type": "display_data"
    }
   ],
   "source": [
    "sns.regplot(train['GrLivArea'],y)"
   ]
  },
  {
   "cell_type": "markdown",
   "metadata": {},
   "source": [
    "# Features engineering"
   ]
  },
  {
   "cell_type": "code",
   "execution_count": 14,
   "metadata": {},
   "outputs": [
    {
     "name": "stdout",
     "output_type": "stream",
     "text": [
      "AllPub    2916\n",
      "NoSeWa       1\n",
      "Name: Utilities, dtype: int64\n"
     ]
    }
   ],
   "source": [
    "print(data['Utilities'].value_counts())"
   ]
  },
  {
   "cell_type": "code",
   "execution_count": 15,
   "metadata": {},
   "outputs": [
    {
     "name": "stdout",
     "output_type": "stream",
     "text": [
      "Pave    2907\n",
      "Grvl      12\n",
      "Name: Street, dtype: int64\n"
     ]
    }
   ],
   "source": [
    "print(data['Street'].value_counts())"
   ]
  },
  {
   "cell_type": "code",
   "execution_count": 16,
   "metadata": {},
   "outputs": [
    {
     "name": "stdout",
     "output_type": "stream",
     "text": [
      "Norm      2511\n",
      "Feedr      164\n",
      "Artery      92\n",
      "RRAn        50\n",
      "PosN        39\n",
      "RRAe        28\n",
      "PosA        20\n",
      "RRNn         9\n",
      "RRNe         6\n",
      "Name: Condition1, dtype: int64\n"
     ]
    }
   ],
   "source": [
    "print(data['Condition1'].value_counts())"
   ]
  },
  {
   "cell_type": "code",
   "execution_count": 17,
   "metadata": {},
   "outputs": [
    {
     "name": "stdout",
     "output_type": "stream",
     "text": [
      "Norm      2889\n",
      "Feedr       13\n",
      "Artery       5\n",
      "PosN         4\n",
      "PosA         4\n",
      "RRNn         2\n",
      "RRAn         1\n",
      "RRAe         1\n",
      "Name: Condition2, dtype: int64\n"
     ]
    }
   ],
   "source": [
    "print(data['Condition2'].value_counts())"
   ]
  },
  {
   "cell_type": "code",
   "execution_count": 18,
   "metadata": {},
   "outputs": [
    {
     "name": "stdout",
     "output_type": "stream",
     "text": [
      "1Fam      2425\n",
      "TwnhsE     227\n",
      "Duplex     109\n",
      "Twnhs       96\n",
      "2fmCon      62\n",
      "Name: BldgType, dtype: int64\n"
     ]
    }
   ],
   "source": [
    "print(data['BldgType'].value_counts())"
   ]
  },
  {
   "cell_type": "markdown",
   "metadata": {},
   "source": [
    "These features don't give us more informations in our data because most of its values are equal to one value, so we will drop them."
   ]
  },
  {
   "cell_type": "code",
   "execution_count": 19,
   "metadata": {},
   "outputs": [],
   "source": [
    "data = data.drop(['Utilities','Street','Condition1',\n",
    "                  'Condition2','BldgType'],axis=1)"
   ]
  },
  {
   "cell_type": "markdown",
   "metadata": {},
   "source": [
    "# Data Transformation"
   ]
  },
  {
   "cell_type": "markdown",
   "metadata": {},
   "source": [
    "* Dummies transformation"
   ]
  },
  {
   "cell_type": "code",
   "execution_count": 20,
   "metadata": {},
   "outputs": [],
   "source": [
    "def create_dummy(data,feature):\n",
    "    dummy = pd.get_dummies(data[feature])\n",
    "    dummy.columns=[feature+s for s in dummy.columns]\n",
    "    data = pd.concat([data,dummy],axis=1)\n",
    "    data=data.drop(feature,axis=1)\n",
    "    return data"
   ]
  },
  {
   "cell_type": "code",
   "execution_count": 21,
   "metadata": {},
   "outputs": [],
   "source": [
    "categorical=[f for f in data.columns if data.dtypes[f] =='object']\n",
    "numeric=[f for f in data.columns if data.dtypes[f]!='object']\n",
    "\n",
    "data[numeric]=data[numeric].astype('float64')"
   ]
  },
  {
   "cell_type": "code",
   "execution_count": 22,
   "metadata": {},
   "outputs": [],
   "source": [
    "for f in categorical:\n",
    "    data=create_dummy(data,f)"
   ]
  },
  {
   "cell_type": "markdown",
   "metadata": {},
   "source": [
    "* log(1+x) transformation\n",
    "\n",
    "\n",
    "_Linear Regression assumes normality of errors_\n",
    "This transformation helps the reduction of the impact on residuals of large values in the response.\n",
    "\n",
    "NB: we add 1 for zeros values"
   ]
  },
  {
   "cell_type": "code",
   "execution_count": 23,
   "metadata": {},
   "outputs": [],
   "source": [
    "y=np.log1p(y)\n",
    "\n",
    "data[numeric]=np.log1p(data[numeric])"
   ]
  },
  {
   "cell_type": "markdown",
   "metadata": {},
   "source": [
    "* Scaling"
   ]
  },
  {
   "cell_type": "code",
   "execution_count": 24,
   "metadata": {},
   "outputs": [],
   "source": [
    "scaler=RobustScaler()\n",
    "data[numeric]=scaler.fit_transform(data[numeric])"
   ]
  },
  {
   "cell_type": "markdown",
   "metadata": {},
   "source": [
    "# Features selection"
   ]
  },
  {
   "cell_type": "markdown",
   "metadata": {},
   "source": [
    "We'll use **Forward selection** algorithm to select best features that minimize the mean squarred error and which have p-value less than 0.05\n",
    "\n",
    "p-value indicates the level of significance of null hypothisis in our model."
   ]
  },
  {
   "cell_type": "code",
   "execution_count": 25,
   "metadata": {
    "scrolled": true
   },
   "outputs": [
    {
     "name": "stdout",
     "output_type": "stream",
     "text": [
      "---------0 features ----------\n",
      "OverallQual ---> MSE = 0.056874043036502016 ---- pvalue = 0.0\n",
      "\n",
      "---------1 features ----------\n",
      "GrLivArea ---> MSE = 0.04185387613746576 ---- pvalue = 3.8721548365098445e-99\n",
      "\n",
      "---------2 features ----------\n",
      "YearBuilt ---> MSE = 0.03445459592279523 ---- pvalue = 1.5400558359000393e-63\n",
      "\n",
      "---------3 features ----------\n",
      "LotArea ---> MSE = 0.029442054063168858 ---- pvalue = 1.1595311143203101e-51\n",
      "\n",
      "---------4 features ----------\n",
      "OverallCond ---> MSE = 0.026681444900999555 ---- pvalue = 5.5732524861261325e-33\n",
      "\n",
      "---------5 features ----------\n",
      "BsmtFinSF1 ---> MSE = 0.024532716650947296 ---- pvalue = 2.3633255971493597e-28\n",
      "\n",
      "---------6 features ----------\n",
      "BsmtQualEx ---> MSE = 0.022817694732398183 ---- pvalue = 1.1084039563193398e-24\n",
      "\n",
      "---------7 features ----------\n",
      "RoofMatlClyTile ---> MSE = 0.02113232976666304 ---- pvalue = 5.0851971453993016e-26\n",
      "\n",
      "---------8 features ----------\n",
      "1stFlrSF ---> MSE = 0.020179530125170743 ---- pvalue = 2.8953162994040293e-16\n",
      "\n",
      "---------9 features ----------\n",
      "KitchenQualTA ---> MSE = 0.019347570542148678 ---- pvalue = 5.752186935774252e-15\n",
      "\n",
      "---------10 features ----------\n",
      "GarageCars ---> MSE = 0.0185958381098951 ---- pvalue = 3.6233573865555516e-14\n",
      "\n",
      "---------11 features ----------\n",
      "MSZoningC (all) ---> MSE = 0.01804657658827647 ---- pvalue = 4.5338144507346754e-11\n",
      "\n",
      "---------12 features ----------\n",
      "NeighborhoodCrawfor ---> MSE = 0.017541485873793835 ---- pvalue = 1.4961240619494348e-10\n",
      "\n",
      "---------13 features ----------\n",
      "KitchenQualEx ---> MSE = 0.017083936355676347 ---- pvalue = 6.456759217219994e-10\n",
      "\n",
      "---------14 features ----------\n",
      "KitchenAbvGr ---> MSE = 0.016676723390048866 ---- pvalue = 3.6089417845412052e-09\n",
      "\n",
      "---------15 features ----------\n",
      "FunctionalTyp ---> MSE = 0.016217904724217098 ---- pvalue = 2.2425629257572718e-10\n",
      "\n",
      "---------16 features ----------\n",
      "ExterQualTA ---> MSE = 0.015855366082072712 ---- pvalue = 1.1384208250349491e-08\n",
      "\n",
      "---------17 features ----------\n",
      "BsmtExposureGd ---> MSE = 0.015514877487435423 ---- pvalue = 2.2437755157282885e-08\n",
      "\n",
      "---------18 features ----------\n",
      "SaleConditionAbnorml ---> MSE = 0.015227794794995728 ---- pvalue = 2.1585976729722397e-07\n",
      "\n",
      "---------19 features ----------\n",
      "HeatingQCEx ---> MSE = 0.015008635556702687 ---- pvalue = 4.958105239288133e-06\n",
      "\n",
      "---------20 features ----------\n",
      "NeighborhoodStoneBr ---> MSE = 0.014764527742642464 ---- pvalue = 1.2029832438260592e-06\n",
      "\n",
      "---------21 features ----------\n",
      "NeighborhoodNoRidge ---> MSE = 0.014562184903171486 ---- pvalue = 8.495873655712759e-06\n",
      "\n",
      "---------22 features ----------\n",
      "NeighborhoodNridgHt ---> MSE = 0.014340360045163456 ---- pvalue = 2.677023979555826e-06\n",
      "\n",
      "---------23 features ----------\n",
      "NeighborhoodSomerst ---> MSE = 0.014002931079851736 ---- pvalue = 5.083231118285141e-09\n",
      "\n",
      "---------24 features ----------\n",
      "NeighborhoodEdwards ---> MSE = 0.013816056162356549 ---- pvalue = 1.1410355187739718e-05\n",
      "\n",
      "---------25 features ----------\n",
      "ScreenPorch ---> MSE = 0.01365525149508614 ---- pvalue = 4.2181401535627524e-05\n",
      "\n",
      "---------26 features ----------\n",
      "WoodDeckSF ---> MSE = 0.01348352746286228 ---- pvalue = 2.0782120220589728e-05\n",
      "\n",
      "---------27 features ----------\n",
      "Exterior1stBrkFace ---> MSE = 0.013302543157767834 ---- pvalue = 1.0990165152615484e-05\n",
      "\n",
      "---------28 features ----------\n",
      "YearRemodAdd ---> MSE = 0.013120870898735745 ---- pvalue = 9.26552214250122e-06\n",
      "\n",
      "---------29 features ----------\n",
      "BsmtFinType1Unf ---> MSE = 0.012978402867084378 ---- pvalue = 7.843446772730294e-05\n",
      "\n",
      "---------30 features ----------\n",
      "MSZoningRM ---> MSE = 0.01285703363742106 ---- pvalue = 0.0002499838893570822\n",
      "\n",
      "---------31 features ----------\n",
      "SaleTypeWD ---> MSE = 0.012731916674281037 ---- pvalue = 0.00018775401846166437\n",
      "\n",
      "---------32 features ----------\n",
      "HeatingGrav ---> MSE = 0.012621920482704429 ---- pvalue = 0.0004365250638864642\n",
      "\n",
      "---------33 features ----------\n",
      "NeighborhoodBrkSide ---> MSE = 0.012507319833484028 ---- pvalue = 0.00031268818951837694\n",
      "\n",
      "---------34 features ----------\n",
      "BsmtFullBath ---> MSE = 0.012404944500726245 ---- pvalue = 0.0006251249190134264\n",
      "\n",
      "---------35 features ----------\n",
      "GarageQualEx ---> MSE = 0.012305223065276304 ---- pvalue = 0.0007029341633519665\n",
      "\n",
      "---------36 features ----------\n",
      "Fireplaces ---> MSE = 0.012212944307545227 ---- pvalue = 0.0010712270995137383\n",
      "\n",
      "---------37 features ----------\n",
      "PoolArea ---> MSE = 0.012136892448074666 ---- pvalue = 0.002893671416930628\n",
      "\n",
      "---------38 features ----------\n",
      "FoundationStone ---> MSE = 0.01205920419341686 ---- pvalue = 0.0025346269600770603\n",
      "\n",
      "---------39 features ----------\n",
      "ExterCondEx ---> MSE = 0.011981826547924167 ---- pvalue = 0.002512997929960555\n",
      "\n",
      "---------40 features ----------\n",
      "NeighborhoodCollgCr ---> MSE = 0.011907863138316186 ---- pvalue = 0.00305002228972293\n",
      "\n",
      "---------41 features ----------\n",
      "FunctionalMaj2 ---> MSE = 0.011837118236950134 ---- pvalue = 0.0036694318075139796\n",
      "\n",
      "---------42 features ----------\n",
      "GarageCondFa ---> MSE = 0.011763325340193285 ---- pvalue = 0.0029278628963057473\n",
      "\n",
      "---------43 features ----------\n",
      "RoofMatlWdShngl ---> MSE = 0.011694851868020268 ---- pvalue = 0.004057811795437016\n",
      "\n",
      "---------44 features ----------\n",
      "FunctionalSev ---> MSE = 0.011635459188767409 ---- pvalue = 0.007303383599394535\n",
      "\n",
      "---------45 features ----------\n",
      "TotalBsmtSF ---> MSE = 0.01157697698152643 ---- pvalue = 0.007633855457416225\n",
      "\n",
      "---------46 features ----------\n",
      "FoundationPConc ---> MSE = 0.01152457601135918 ---- pvalue = 0.01139027555401895\n",
      "\n",
      "---------47 features ----------\n",
      "LotConfigFR2 ---> MSE = 0.011471218242458978 ---- pvalue = 0.010514053370465863\n",
      "\n",
      "---------48 features ----------\n",
      "LandContourBnk ---> MSE = 0.011416099833598018 ---- pvalue = 0.009172772939537313\n",
      "\n",
      "---------49 features ----------\n",
      "SaleConditionFamily ---> MSE = 0.011367295276420672 ---- pvalue = 0.014030222875784395\n",
      "\n",
      "---------50 features ----------\n",
      "BsmtExposureNo ---> MSE = 0.011329867055185119 ---- pvalue = 0.03119836076962738\n",
      "\n",
      "---------51 features ----------\n",
      "ExterCondTA ---> MSE = 0.011295339777836587 ---- pvalue = 0.038274249451210135\n",
      "\n",
      "---------52 features ----------\n",
      "LotConfigInside ---> MSE = 0.011261343838438893 ---- pvalue = 0.0395623238177228\n",
      "\n",
      "---------53 features ----------\n",
      "Exterior1stWd Sdng ---> MSE = 0.011227210234288187 ---- pvalue = 0.03893815419580891\n",
      "\n",
      "---------54 features ----------\n"
     ]
    }
   ],
   "source": [
    "train = data.iloc[:n_train,:]\n",
    "test = data.iloc[n_train:,:]\n",
    "test = test.reset_index()\n",
    "\n",
    "def forward_selection(X,y):\n",
    "    \n",
    "    final_features=[]\n",
    "    \n",
    "    not_reduced_features=list(X.columns)\n",
    "    MSE_hist=100000000000\n",
    "    \n",
    "    \n",
    "    while (len(not_reduced_features)>0):\n",
    "        MSE={}\n",
    "        pvalue={}\n",
    "        print('---------%d features ----------' %len(final_features))\n",
    "        for f in not_reduced_features:\n",
    "            features=final_features.copy()\n",
    "            features.append(f)\n",
    "            \n",
    "            intercept=pd.DataFrame(np.ones((train.shape[0],1),dtype='float64'))\n",
    "            intercept.columns=['Intercept']\n",
    "            \n",
    "            X_intercept = pd.concat([X[features],intercept],axis=1)\n",
    "            \n",
    "            reg = sm.OLS(y,X_intercept).fit()\n",
    "            \n",
    "            y_predict=reg.predict(X_intercept)\n",
    "            r2=mean_squared_error(y,y_predict)\n",
    "            \n",
    "            MSE[f]=r2\n",
    "            pvalue[f]=reg.pvalues[f]\n",
    "                        \n",
    "        mini,mini_f=min(zip(MSE.values(),MSE.keys()))\n",
    "        if (mini<MSE_hist and pvalue[mini_f]<0.05):\n",
    "            print('{} ---> MSE = {} ---- pvalue = {}\\n'.format(mini_f,mini,pvalue[mini_f]))\n",
    "            MSE_hist=mini\n",
    "            final_features.append(mini_f)\n",
    "            not_reduced_features.remove(mini_f)\n",
    "        else:\n",
    "            return final_features\n",
    "    \n",
    "    return final_features\n",
    "            \n",
    "            \n",
    "features_selected = forward_selection(train,y)"
   ]
  },
  {
   "cell_type": "code",
   "execution_count": 26,
   "metadata": {},
   "outputs": [],
   "source": [
    "train = train[features_selected]\n",
    "test = test[features_selected]"
   ]
  },
  {
   "cell_type": "markdown",
   "metadata": {},
   "source": [
    "# Model"
   ]
  },
  {
   "cell_type": "markdown",
   "metadata": {},
   "source": [
    "As a model we'll use Linear regression model.\n",
    "\n",
    "\n",
    "We'll use statsmodel.formula.api.OLS"
   ]
  },
  {
   "cell_type": "code",
   "execution_count": 27,
   "metadata": {},
   "outputs": [
    {
     "name": "stdout",
     "output_type": "stream",
     "text": [
      "0    123341.656748\n",
      "1    153466.532054\n",
      "2    181524.508642\n",
      "3    196566.929838\n",
      "4    208970.448544\n",
      "5    171676.139571\n",
      "6    176691.401933\n",
      "7    158140.733744\n",
      "8    198572.320179\n",
      "dtype: float64\n",
      "                            OLS Regression Results                            \n",
      "==============================================================================\n",
      "Dep. Variable:              SalePrice   R-squared:                       0.930\n",
      "Model:                            OLS   Adj. R-squared:                  0.927\n",
      "Method:                 Least Squares   F-statistic:                     343.5\n",
      "Date:                Sat, 20 Apr 2019   Prob (F-statistic):               0.00\n",
      "Time:                        22:24:10   Log-Likelihood:                 1205.6\n",
      "No. Observations:                1460   AIC:                            -2301.\n",
      "Df Residuals:                    1405   BIC:                            -2011.\n",
      "Df Model:                          54                                         \n",
      "Covariance Type:            nonrobust                                         \n",
      "========================================================================================\n",
      "                           coef    std err          t      P>|t|      [0.025      0.975]\n",
      "----------------------------------------------------------------------------------------\n",
      "OverallQual              0.0702      0.008      9.145      0.000       0.055       0.085\n",
      "GrLivArea                0.1786      0.006     28.589      0.000       0.166       0.191\n",
      "YearBuilt                0.0856      0.010      8.796      0.000       0.067       0.105\n",
      "LotArea                  0.0353      0.003     10.676      0.000       0.029       0.042\n",
      "OverallCond              0.0377      0.003     11.035      0.000       0.031       0.044\n",
      "BsmtFinSF1               0.0759      0.029      2.610      0.009       0.019       0.133\n",
      "BsmtQualEx               0.0740      0.014      5.372      0.000       0.047       0.101\n",
      "RoofMatlClyTile         -1.5778      0.120    -13.179      0.000      -1.813      -1.343\n",
      "1stFlrSF                 0.0378      0.006      6.017      0.000       0.026       0.050\n",
      "KitchenQualTA           -0.0064      0.009     -0.750      0.453      -0.023       0.010\n",
      "GarageCars               0.0423      0.005      8.657      0.000       0.033       0.052\n",
      "MSZoningC (all)         -0.3871      0.037    -10.547      0.000      -0.459      -0.315\n",
      "NeighborhoodCrawfor      0.1428      0.017      8.497      0.000       0.110       0.176\n",
      "KitchenQualEx            0.0839      0.014      5.960      0.000       0.056       0.112\n",
      "KitchenAbvGr            -0.2026      0.037     -5.500      0.000      -0.275      -0.130\n",
      "FunctionalTyp            0.0762      0.013      6.039      0.000       0.051       0.101\n",
      "ExterQualTA             -0.0191      0.010     -1.944      0.052      -0.038       0.000\n",
      "BsmtExposureGd           0.0636      0.012      5.403      0.000       0.041       0.087\n",
      "SaleConditionAbnorml    -0.0758      0.012     -6.373      0.000      -0.099      -0.052\n",
      "HeatingQCEx              0.0301      0.007      4.015      0.000       0.015       0.045\n",
      "NeighborhoodStoneBr      0.1685      0.024      7.090      0.000       0.122       0.215\n",
      "NeighborhoodNoRidge      0.1425      0.019      7.389      0.000       0.105       0.180\n",
      "NeighborhoodNridgHt      0.1095      0.016      6.671      0.000       0.077       0.142\n",
      "NeighborhoodSomerst      0.0914      0.015      6.221      0.000       0.063       0.120\n",
      "NeighborhoodEdwards     -0.0574      0.012     -4.660      0.000      -0.082      -0.033\n",
      "ScreenPorch              0.0082      0.002      3.871      0.000       0.004       0.012\n",
      "WoodDeckSF               0.0202      0.006      3.157      0.002       0.008       0.033\n",
      "Exterior1stBrkFace       0.0859      0.016      5.207      0.000       0.054       0.118\n",
      "YearRemodAdd             0.0383      0.009      4.470      0.000       0.021       0.055\n",
      "BsmtFinType1Unf          0.0197      0.026      0.744      0.457      -0.032       0.072\n",
      "MSZoningRM              -0.0498      0.010     -4.803      0.000      -0.070      -0.029\n",
      "SaleTypeWD              -0.0411      0.009     -4.327      0.000      -0.060      -0.022\n",
      "HeatingGrav             -0.1698      0.043     -3.992      0.000      -0.253      -0.086\n",
      "NeighborhoodBrkSide      0.0615      0.016      3.912      0.000       0.031       0.092\n",
      "BsmtFullBath             0.0264      0.008      3.435      0.001       0.011       0.041\n",
      "GarageQualEx             0.1879      0.066      2.867      0.004       0.059       0.316\n",
      "Fireplaces               0.0245      0.006      3.792      0.000       0.012       0.037\n",
      "PoolArea                 0.0232      0.007      3.274      0.001       0.009       0.037\n",
      "FoundationStone          0.1221      0.046      2.665      0.008       0.032       0.212\n",
      "ExterCondEx              0.2140      0.064      3.337      0.001       0.088       0.340\n",
      "NeighborhoodCollgCr      0.0260      0.011      2.265      0.024       0.003       0.048\n",
      "FunctionalMaj2          -0.1713      0.051     -3.374      0.001      -0.271      -0.072\n",
      "GarageCondFa            -0.0715      0.020     -3.632      0.000      -0.110      -0.033\n",
      "RoofMatlWdShngl          0.1344      0.047      2.876      0.004       0.043       0.226\n",
      "FunctionalSev           -0.2829      0.110     -2.569      0.010      -0.499      -0.067\n",
      "TotalBsmtSF              0.0065      0.002      2.805      0.005       0.002       0.011\n",
      "FoundationPConc          0.0261      0.009      2.809      0.005       0.008       0.044\n",
      "LotConfigFR2            -0.0547      0.017     -3.210      0.001      -0.088      -0.021\n",
      "LandContourBnk          -0.0382      0.015     -2.609      0.009      -0.067      -0.009\n",
      "SaleConditionFamily     -0.0614      0.025     -2.482      0.013      -0.110      -0.013\n",
      "BsmtExposureNo          -0.0160      0.008     -2.113      0.035      -0.031      -0.001\n",
      "ExterCondTA              0.0215      0.009      2.309      0.021       0.003       0.040\n",
      "LotConfigInside         -0.0143      0.007     -2.085      0.037      -0.028      -0.001\n",
      "Exterior1stWd Sdng      -0.0193      0.009     -2.067      0.039      -0.038      -0.001\n",
      "Intercept               11.9754      0.022    551.577      0.000      11.933      12.018\n",
      "==============================================================================\n",
      "Omnibus:                      601.558   Durbin-Watson:                   1.876\n",
      "Prob(Omnibus):                  0.000   Jarque-Bera (JB):             8758.416\n",
      "Skew:                          -1.516   Prob(JB):                         0.00\n",
      "Kurtosis:                      14.609   Cond. No.                         116.\n",
      "==============================================================================\n",
      "\n",
      "Warnings:\n",
      "[1] Standard Errors assume that the covariance matrix of the errors is correctly specified.\n"
     ]
    }
   ],
   "source": [
    "intercept=pd.DataFrame(np.ones((train.shape[0],1),dtype='float64'))\n",
    "intercept.columns=['Intercept']\n",
    "\n",
    "train_intercept = pd.concat([train,intercept],axis=1)\n",
    "\n",
    "# Train our model\n",
    "reg=sm.OLS(y,train_intercept).fit()\n",
    "\n",
    "# Predict the results\n",
    "intercept=pd.DataFrame(np.ones((test.shape[0],1),dtype='float64'))\n",
    "intercept.columns=['Intercept']\n",
    "\n",
    "test_intercept = pd.concat([test,intercept],axis=1)\n",
    "\n",
    "res=reg.predict(test_intercept)\n",
    "\n",
    "# we make exp(x)-1 transformation : the reverse of log(1+x)\n",
    "res=np.exp(res)-1\n",
    "\n",
    "print(res[:9])\n",
    "print(reg.summary())"
   ]
  },
  {
   "cell_type": "code",
   "execution_count": 28,
   "metadata": {
    "scrolled": false
   },
   "outputs": [
    {
     "name": "stdout",
     "output_type": "stream",
     "text": [
      "Intercept                0.000000e+00\n",
      "GrLivArea               4.483924e-142\n",
      "RoofMatlClyTile          1.754386e-37\n",
      "OverallCond              3.288783e-27\n",
      "LotArea                  1.229994e-25\n",
      "MSZoningC (all)          4.399170e-25\n",
      "OverallQual              2.030985e-19\n",
      "YearBuilt                4.082534e-18\n",
      "GarageCars               1.304924e-17\n",
      "NeighborhoodCrawfor      4.888458e-17\n",
      "NeighborhoodNoRidge      2.519821e-13\n",
      "NeighborhoodStoneBr      2.124144e-12\n",
      "NeighborhoodNridgHt      3.640078e-11\n",
      "SaleConditionAbnorml     2.510051e-10\n",
      "NeighborhoodSomerst      6.502009e-10\n",
      "FunctionalTyp            1.984882e-09\n",
      "1stFlrSF                 2.260977e-09\n",
      "KitchenQualEx            3.176070e-09\n",
      "KitchenAbvGr             4.504484e-08\n",
      "BsmtExposureGd           7.701639e-08\n",
      "BsmtQualEx               9.124082e-08\n",
      "Exterior1stBrkFace       2.204913e-07\n",
      "MSZoningRM               1.731358e-06\n",
      "NeighborhoodEdwards      3.462168e-06\n",
      "YearRemodAdd             8.461613e-06\n",
      "SaleTypeWD               1.619429e-05\n",
      "HeatingQCEx              6.258444e-05\n",
      "HeatingGrav              6.891371e-05\n",
      "NeighborhoodBrkSide      9.589605e-05\n",
      "ScreenPorch              1.135377e-04\n",
      "Fireplaces               1.559529e-04\n",
      "GarageCondFa             2.912516e-04\n",
      "BsmtFullBath             6.090400e-04\n",
      "FunctionalMaj2           7.611984e-04\n",
      "ExterCondEx              8.679294e-04\n",
      "PoolArea                 1.085813e-03\n",
      "LotConfigFR2             1.359655e-03\n",
      "WoodDeckSF               1.629000e-03\n",
      "RoofMatlWdShngl          4.084808e-03\n",
      "GarageQualEx             4.202636e-03\n",
      "FoundationPConc          5.037866e-03\n",
      "TotalBsmtSF              5.101401e-03\n",
      "FoundationStone          7.779402e-03\n",
      "BsmtFinSF1               9.152864e-03\n",
      "LandContourBnk           9.182683e-03\n",
      "FunctionalSev            1.030695e-02\n",
      "SaleConditionFamily      1.318372e-02\n",
      "ExterCondTA              2.110252e-02\n",
      "NeighborhoodCollgCr      2.365483e-02\n",
      "BsmtExposureNo           3.479574e-02\n",
      "LotConfigInside          3.725321e-02\n",
      "Exterior1stWd Sdng       3.893815e-02\n",
      "ExterQualTA              5.204195e-02\n",
      "KitchenQualTA            4.531090e-01\n",
      "BsmtFinType1Unf          4.567328e-01\n",
      "dtype: float64\n"
     ]
    }
   ],
   "source": [
    "print(reg.pvalues.sort_values())"
   ]
  },
  {
   "cell_type": "markdown",
   "metadata": {},
   "source": [
    "## Conclusion"
   ]
  },
  {
   "cell_type": "markdown",
   "metadata": {},
   "source": [
    "* After training our model we had a score: 0.929\n",
    "\n",
    "* We deduce that Heating Type is the most significant feature in our model because it has the least p-value, followed by GrvLivArea, RoofMatlClyTile which is a type of roof, LotArea and OverallQual which is the most corrolated feature with SalePrice.\n"
   ]
  },
  {
   "cell_type": "markdown",
   "metadata": {},
   "source": [
    "# Submission"
   ]
  },
  {
   "cell_type": "code",
   "execution_count": 29,
   "metadata": {},
   "outputs": [],
   "source": [
    "indexes=pd.read_csv('test.csv').index+1461\n",
    "submision=pd.DataFrame({'Id':indexes,'SalePrice':res})\n",
    "submision.to_csv(\"submission.csv\",index=False)"
   ]
  },
  {
   "cell_type": "code",
   "execution_count": null,
   "metadata": {},
   "outputs": [],
   "source": []
  }
 ],
 "metadata": {
  "kernelspec": {
   "display_name": "myenv",
   "language": "python",
   "name": "myenv"
  },
  "language_info": {
   "codemirror_mode": {
    "name": "ipython",
    "version": 3
   },
   "file_extension": ".py",
   "mimetype": "text/x-python",
   "name": "python",
   "nbconvert_exporter": "python",
   "pygments_lexer": "ipython3",
   "version": "3.6.7"
  }
 },
 "nbformat": 4,
 "nbformat_minor": 2
}
